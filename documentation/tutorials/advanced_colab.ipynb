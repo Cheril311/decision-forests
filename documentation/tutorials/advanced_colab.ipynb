{
  "cells": [
    {
      "cell_type": "markdown",
      "metadata": {
        "id": "8yo62ffS5TF5"
      },
      "source": [
        "# Advanced Colab for TensorFlow Decision Forests\n",
        "\n",
        "In this colab, you will learn how to inspect and create the structure of a model directly. We assume you are familiar with the concepts introduced in the\n",
        "[beginner](beginner_colab.ipynb) and [intermediate](intermediate_colab.ipynb)\n",
        "colabs.\n",
        "\n",
        "In this colab, we will:\n",
        "\n",
        "1.  Train a Random Forest model and access its structure programatically.\n",
        "\n",
        "1.  Create a Random Forest model by hand and use it as a classical model."
      ]
    },
    {
      "cell_type": "code",
      "execution_count": null,
      "metadata": {
        "id": "mZiInVYfffAb"
      },
      "outputs": [],
      "source": [
        "# Install TensorFlow Dececision Forests\n",
        "!pip install tensorflow_decision_forests"
      ]
    },
    {
      "cell_type": "markdown",
      "metadata": {
        "id": "Rzskapxq7gdo"
      },
      "source": [
        "## Importing the libraries"
      ]
    },
    {
      "cell_type": "code",
      "execution_count": null,
      "metadata": {
        "id": "RsCV2oAS7gC_"
      },
      "outputs": [],
      "source": [
        "import tensorflow_decision_forests as tfdf\n",
        "\n",
        "import os\n",
        "import numpy as np\n",
        "import pandas as pd\n",
        "import tensorflow as tf\n",
        "import math\n",
        "import collections"
      ]
    },
    {
      "cell_type": "markdown",
      "metadata": {
        "id": "M_D4Ft4o65XT"
      },
      "source": [
        "## Train a simple Random Forest (same as Beginer colab)\n",
        "\n",
        "We train a Random Forest like in the [beginner colab](beginner_colab.ipynb):"
      ]
    },
    {
      "cell_type": "code",
      "execution_count": null,
      "metadata": {
        "executionInfo": {
          "elapsed": 7837,
          "status": "ok",
          "timestamp": 1618314034291,
          "user": {
            "displayName": "Mathieu Guillame-bert",
            "photoUrl": "https://lh3.googleusercontent.com/a-/AOh14GhZmVfZNxOIncSEWK9Dm0WZQR_i_MKVBuWd7p__iA=s64",
            "userId": "08965950364875513117"
          },
          "user_tz": -120
        },
        "id": "tTW2aBiVcU3E",
        "outputId": "b03aa3bc-f837-40f7-e71f-2284168aa257"
      },
      "outputs": [
        {
          "name": "stdout",
          "output_type": "stream",
          "text": [
            "  species     island  bill_length_mm  bill_depth_mm  flipper_length_mm  body_mass_g     sex  year\n",
            "0  Adelie  Torgersen            39.1           18.7              181.0       3750.0    male  2007\n",
            "1  Adelie  Torgersen            39.5           17.4              186.0       3800.0  female  2007\n",
            "2  Adelie  Torgersen            40.3           18.0              195.0       3250.0  female  2007\n",
            "6/6 [==============================] - 5s 855us/step\n"
          ]
        }
      ],
      "source": [
        "# Download the dataset\n",
        "!wget -q https://storage.googleapis.com/download.tensorflow.org/data/palmer_penguins/penguins.csv -O /tmp/penguins.csv\n",
        "\n",
        "# Load a dataset into a Pandas Dataframe.\n",
        "dataset_df = pd.read_csv(\"/tmp/penguins.csv\")\n",
        "\n",
        "# Show the first three examples.\n",
        "print(dataset_df.head(3))\n",
        "\n",
        "# Convert the pandas dataframe into a tf dataset.\n",
        "dataset_tf = tfdf.keras.pd_dataframe_to_tf_dataset(dataset_df, label=\"species\")\n",
        "\n",
        "# Train the Random Forest\n",
        "model = tfdf.keras.RandomForestModel(compute_oob_variable_importances=True)\n",
        "model.fit(x=dataset_tf)"
      ]
    },
    {
      "cell_type": "markdown",
      "metadata": {
        "id": "b7Xie0bhcw8_"
      },
      "source": [
        "Remark the `compute_oob_variable_importances=True`\n",
        "hyper-parameter in the model constructor. This opion computes the Out-of-bag (OOB)\n",
        "variable importance during training. This is a popular\n",
        "[permutation variable importance](https://christophm.github.io/interpretable-ml-book/feature-importance.html) for Random Forest models.\n",
        "\n",
        "Computing the OOB Variable importance not impact the final model, it will slow the training on large datasets.\n",
        "\n",
        "We check the model summary:"
      ]
    },
    {
      "cell_type": "code",
      "execution_count": null,
      "metadata": {
        "colab": {
          "height": 300
        },
        "executionInfo": {
          "elapsed": 113,
          "status": "ok",
          "timestamp": 1618314034460,
          "user": {
            "displayName": "Mathieu Guillame-bert",
            "photoUrl": "https://lh3.googleusercontent.com/a-/AOh14GhZmVfZNxOIncSEWK9Dm0WZQR_i_MKVBuWd7p__iA=s64",
            "userId": "08965950364875513117"
          },
          "user_tz": -120
        },
        "id": "fsQYD-jFc2EH",
        "outputId": "a80ad517-eed6-46a1-ddf3-dc0e9649b8dd"
      },
      "outputs": [
        {
          "data": {
            "application/javascript": [
              "window[\"0f09aa88-9c4d-11eb-a2e5-1ca0b880083b\"] = colab.output.setOutputHeight(\"300px\", false, {\"interactive\": true});\n",
              "//# sourceURL=js_2caf6ba4cc"
            ],
            "text/plain": [
              "\u003cIPython.core.display.Javascript at 0x7faed9bfbe48\u003e"
            ]
          },
          "metadata": {
            "tags": []
          },
          "output_type": "display_data"
        },
        {
          "name": "stdout",
          "output_type": "stream",
          "text": [
            "Model: \"random_forest_model\"\n",
            "_________________________________________________________________\n",
            "Layer (type)                 Output Shape              Param #   \n",
            "=================================================================\n",
            "Total params: 1\n",
            "Trainable params: 0\n",
            "Non-trainable params: 1\n",
            "_________________________________________________________________\n",
            "Type: \"RANDOM_FOREST\"\n",
            "Task: CLASSIFICATION\n",
            "Label: \"__LABEL\"\n",
            "\n",
            "Input Features (7):\n",
            "\tbill_depth_mm\n",
            "\tbill_length_mm\n",
            "\tbody_mass_g\n",
            "\tflipper_length_mm\n",
            "\tisland\n",
            "\tsex\n",
            "\tyear\n",
            "\n",
            "No weights\n",
            "\n",
            "Variable Importance: MEAN_DECREASE_IN_PRAUC_3_VS_OTHERS:\n",
            "    1.            \"island\"  0.002854 ################\n",
            "    2.    \"bill_length_mm\"  0.001035 #######\n",
            "    3.     \"bill_depth_mm\"  0.000707 #####\n",
            "    4.       \"body_mass_g\"  0.000110 ###\n",
            "    5.              \"year\"  0.000000 ##\n",
            "    6.               \"sex\"  0.000000 ##\n",
            "    7. \"flipper_length_mm\" -0.000539 \n",
            "\n",
            "Variable Importance: MEAN_DECREASE_IN_AP_1_VS_OTHERS:\n",
            "    1.    \"bill_length_mm\"  0.086531 ################\n",
            "    2. \"flipper_length_mm\"  0.005352 \n",
            "    3.            \"island\"  0.003553 \n",
            "    4.     \"bill_depth_mm\"  0.002332 \n",
            "    5.       \"body_mass_g\"  0.000839 \n",
            "    6.               \"sex\"  0.000381 \n",
            "    7.              \"year\"  0.000081 \n",
            "\n",
            "Variable Importance: MEAN_DECREASE_IN_ACCURACY:\n",
            "    1.    \"bill_length_mm\"  0.156977 ################\n",
            "    2.            \"island\"  0.029070 ##\n",
            "    3. \"flipper_length_mm\"  0.011628 #\n",
            "    4.     \"bill_depth_mm\"  0.011628 #\n",
            "    5.       \"body_mass_g\"  0.008721 \n",
            "    6.               \"sex\"  0.005814 \n",
            "    7.              \"year\"  0.000000 \n",
            "\n",
            "Variable Importance: MEAN_DECREASE_IN_AP_2_VS_OTHERS:\n",
            "    1.    \"bill_length_mm\"  0.442570 ################\n",
            "    2.            \"island\"  0.020799 \n",
            "    3.     \"bill_depth_mm\"  0.009478 \n",
            "    4. \"flipper_length_mm\"  0.007560 \n",
            "    5.       \"body_mass_g\"  0.002305 \n",
            "    6.               \"sex\"  0.001301 \n",
            "    7.              \"year\"  0.000449 \n",
            "\n",
            "Variable Importance: MEAN_DECREASE_IN_AUC_1_VS_OTHERS:\n",
            "    1.    \"bill_length_mm\"  0.067417 ################\n",
            "    2. \"flipper_length_mm\"  0.004592 #\n",
            "    3.            \"island\"  0.003632 \n",
            "    4.     \"bill_depth_mm\"  0.001679 \n",
            "    5.       \"body_mass_g\"  0.000583 \n",
            "    6.               \"sex\"  0.000291 \n",
            "    7.              \"year\"  0.000051 \n",
            "\n",
            "Variable Importance: MEAN_DECREASE_IN_PRAUC_2_VS_OTHERS:\n",
            "    1.    \"bill_length_mm\"  0.431624 ################\n",
            "    2.            \"island\"  0.020506 \n",
            "    3.     \"bill_depth_mm\"  0.009285 \n",
            "    4. \"flipper_length_mm\"  0.007389 \n",
            "    5.       \"body_mass_g\"  0.002119 \n",
            "    6.               \"sex\"  0.001179 \n",
            "    7.              \"year\"  0.000336 \n",
            "\n",
            "Variable Importance: MEAN_DECREASE_IN_PRAUC_1_VS_OTHERS:\n",
            "    1.    \"bill_length_mm\"  0.086059 ################\n",
            "    2. \"flipper_length_mm\"  0.005285 \n",
            "    3.            \"island\"  0.003544 \n",
            "    4.     \"bill_depth_mm\"  0.002277 \n",
            "    5.       \"body_mass_g\"  0.000790 \n",
            "    6.               \"sex\"  0.000359 \n",
            "    7.              \"year\"  0.000060 \n",
            "\n",
            "Variable Importance: MEAN_DECREASE_IN_AUC_2_VS_OTHERS:\n",
            "    1.    \"bill_length_mm\"  0.100757 ################\n",
            "    2. \"flipper_length_mm\"  0.010017 #\n",
            "    3.            \"island\"  0.009937 #\n",
            "    4.     \"bill_depth_mm\"  0.008685 #\n",
            "    5.       \"body_mass_g\"  0.000693 \n",
            "    6.               \"sex\"  0.000346 \n",
            "    7.              \"year\"  0.000080 \n",
            "\n",
            "Variable Importance: MEAN_DECREASE_IN_AUC_3_VS_OTHERS:\n",
            "    1.            \"island\"  0.002603 ################\n",
            "    2.    \"bill_length_mm\"  0.000788 ######\n",
            "    3.     \"bill_depth_mm\"  0.000440 ####\n",
            "    4.       \"body_mass_g\"  0.000073 ##\n",
            "    5.              \"year\"  0.000000 #\n",
            "    6.               \"sex\"  0.000000 #\n",
            "    7. \"flipper_length_mm\" -0.000330 \n",
            "\n",
            "Variable Importance: MEAN_DECREASE_IN_AP_3_VS_OTHERS:\n",
            "    1.            \"island\"  0.002861 ################\n",
            "    2.    \"bill_length_mm\"  0.001017 #######\n",
            "    3.     \"bill_depth_mm\"  0.000710 #####\n",
            "    4.       \"body_mass_g\"  0.000110 ###\n",
            "    5.              \"year\"  0.000000 ##\n",
            "    6.               \"sex\"  0.000000 ##\n",
            "    7. \"flipper_length_mm\" -0.000541 \n",
            "\n",
            "Variable Importance: NUM_NODES:\n",
            "    1.    \"bill_length_mm\" 754.000000 ################\n",
            "    2.     \"bill_depth_mm\" 491.000000 ##########\n",
            "    3. \"flipper_length_mm\" 436.000000 #########\n",
            "    4.       \"body_mass_g\" 334.000000 ######\n",
            "    5.            \"island\" 332.000000 ######\n",
            "    6.               \"sex\" 31.000000 \n",
            "    7.              \"year\" 20.000000 \n",
            "\n",
            "Variable Importance: NUM_AS_ROOT:\n",
            "    1. \"flipper_length_mm\" 167.000000 ################\n",
            "    2.    \"bill_length_mm\" 69.000000 ######\n",
            "    3.     \"bill_depth_mm\" 55.000000 #####\n",
            "    4.            \"island\"  8.000000 \n",
            "    5.       \"body_mass_g\"  1.000000 \n",
            "\n",
            "Variable Importance: SUM_SCORE:\n",
            "    1. \"flipper_length_mm\" 36384.852163 ################\n",
            "    2.    \"bill_length_mm\" 35294.648607 ###############\n",
            "    3.     \"bill_depth_mm\" 14513.101712 ######\n",
            "    4.            \"island\" 14489.658088 ######\n",
            "    5.       \"body_mass_g\" 3294.239056 #\n",
            "    6.               \"sex\" 300.201273 \n",
            "    7.              \"year\" 48.283057 \n",
            "\n",
            "Variable Importance: MEAN_MIN_DEPTH:\n",
            "    1.           \"__LABEL\"  3.478222 ################\n",
            "    2.              \"year\"  3.461207 ###############\n",
            "    3.               \"sex\"  3.423256 ###############\n",
            "    4.       \"body_mass_g\"  2.928873 ############\n",
            "    5.            \"island\"  2.348480 #######\n",
            "    6.     \"bill_depth_mm\"  2.316410 #######\n",
            "    7.    \"bill_length_mm\"  1.413146 #\n",
            "    8. \"flipper_length_mm\"  1.241133 \n",
            "\n",
            "\n",
            "\n",
            "Winner take all: true\n",
            "Out-of-bag evaluation: accuracy:0.985465 logloss:0.070266\n",
            "Number of trees: 300\n",
            "Total number of nodes: 5096\n",
            "\n",
            "Number of nodes by tree:\n",
            "Count: 300 Average: 16.9867 StdDev: 3.1958\n",
            "Min: 9 Max: 29 Ignored: 0\n",
            "----------------------------------------------\n",
            "[  9, 10)  1   0.33%   0.33%\n",
            "[ 10, 11)  0   0.00%   0.33%\n",
            "[ 11, 12)  9   3.00%   3.33% #\n",
            "[ 12, 13)  0   0.00%   3.33%\n",
            "[ 13, 14) 42  14.00%  17.33% ######\n",
            "[ 14, 15)  0   0.00%  17.33%\n",
            "[ 15, 16) 69  23.00%  40.33% #########\n",
            "[ 16, 17)  0   0.00%  40.33%\n",
            "[ 17, 18) 75  25.00%  65.33% ##########\n",
            "[ 18, 19)  0   0.00%  65.33%\n",
            "[ 19, 20) 57  19.00%  84.33% ########\n",
            "[ 20, 21)  0   0.00%  84.33%\n",
            "[ 21, 22) 27   9.00%  93.33% ####\n",
            "[ 22, 23)  0   0.00%  93.33%\n",
            "[ 23, 24) 13   4.33%  97.67% ##\n",
            "[ 24, 25)  0   0.00%  97.67%\n",
            "[ 25, 26)  4   1.33%  99.00% #\n",
            "[ 26, 27)  0   0.00%  99.00%\n",
            "[ 27, 28)  2   0.67%  99.67%\n",
            "[ 28, 29]  1   0.33% 100.00%\n",
            "\n",
            "Depth by leafs:\n",
            "Count: 2698 Average: 3.53484 StdDev: 1.0617\n",
            "Min: 1 Max: 8 Ignored: 0\n",
            "----------------------------------------------\n",
            "[ 1, 2)   4   0.15%   0.15%\n",
            "[ 2, 3) 532  19.72%  19.87% ######\n",
            "[ 3, 4) 740  27.43%  47.29% ########\n",
            "[ 4, 5) 930  34.47%  81.76% ##########\n",
            "[ 5, 6) 432  16.01%  97.78% #####\n",
            "[ 6, 7)  53   1.96%  99.74% #\n",
            "[ 7, 8)   5   0.19%  99.93%\n",
            "[ 8, 8]   2   0.07% 100.00%\n",
            "\n",
            "Number of training obs by leaf:\n",
            "Count: 2698 Average: 38.2506 StdDev: 44.5236\n",
            "Min: 5 Max: 158 Ignored: 0\n",
            "----------------------------------------------\n",
            "[   5,  12) 1450  53.74%  53.74% ##########\n",
            "[  12,  20)  121   4.48%  58.23% #\n",
            "[  20,  28)   85   3.15%  61.38% #\n",
            "[  28,  35)   70   2.59%  63.97%\n",
            "[  35,  43)   67   2.48%  66.46%\n",
            "[  43,  51)  101   3.74%  70.20% #\n",
            "[  51,  58)  109   4.04%  74.24% #\n",
            "[  58,  66)   81   3.00%  77.24% #\n",
            "[  66,  74)   26   0.96%  78.21%\n",
            "[  74,  82)   21   0.78%  78.98%\n",
            "[  82,  89)   28   1.04%  80.02%\n",
            "[  89,  97)   37   1.37%  81.39%\n",
            "[  97, 105)   49   1.82%  83.21%\n",
            "[ 105, 112)   67   2.48%  85.69%\n",
            "[ 112, 120)  130   4.82%  90.51% #\n",
            "[ 120, 128)  117   4.34%  94.85% #\n",
            "[ 128, 135)   65   2.41%  97.26%\n",
            "[ 135, 143)   51   1.89%  99.15%\n",
            "[ 143, 151)   17   0.63%  99.78%\n",
            "[ 151, 158]    6   0.22% 100.00%\n",
            "\n",
            "Attribute in nodes:\n",
            "\t754 : bill_length_mm [NUMERICAL]\n",
            "\t491 : bill_depth_mm [NUMERICAL]\n",
            "\t436 : flipper_length_mm [NUMERICAL]\n",
            "\t334 : body_mass_g [NUMERICAL]\n",
            "\t332 : island [CATEGORICAL]\n",
            "\t31 : sex [CATEGORICAL]\n",
            "\t20 : year [NUMERICAL]\n",
            "\n",
            "Attribute in nodes with depth \u003c= 0:\n",
            "\t167 : flipper_length_mm [NUMERICAL]\n",
            "\t69 : bill_length_mm [NUMERICAL]\n",
            "\t55 : bill_depth_mm [NUMERICAL]\n",
            "\t8 : island [CATEGORICAL]\n",
            "\t1 : body_mass_g [NUMERICAL]\n",
            "\n",
            "Attribute in nodes with depth \u003c= 1:\n",
            "\t258 : flipper_length_mm [NUMERICAL]\n",
            "\t225 : bill_length_mm [NUMERICAL]\n",
            "\t188 : bill_depth_mm [NUMERICAL]\n",
            "\t165 : island [CATEGORICAL]\n",
            "\t60 : body_mass_g [NUMERICAL]\n",
            "\n",
            "Attribute in nodes with depth \u003c= 2:\n",
            "\t456 : bill_length_mm [NUMERICAL]\n",
            "\t341 : flipper_length_mm [NUMERICAL]\n",
            "\t308 : bill_depth_mm [NUMERICAL]\n",
            "\t272 : island [CATEGORICAL]\n",
            "\t168 : body_mass_g [NUMERICAL]\n",
            "\t10 : sex [CATEGORICAL]\n",
            "\t1 : year [NUMERICAL]\n",
            "\n",
            "Attribute in nodes with depth \u003c= 3:\n",
            "\t662 : bill_length_mm [NUMERICAL]\n",
            "\t438 : bill_depth_mm [NUMERICAL]\n",
            "\t402 : flipper_length_mm [NUMERICAL]\n",
            "\t315 : island [CATEGORICAL]\n",
            "\t280 : body_mass_g [NUMERICAL]\n",
            "\t27 : sex [CATEGORICAL]\n",
            "\t12 : year [NUMERICAL]\n",
            "\n",
            "Attribute in nodes with depth \u003c= 5:\n",
            "\t752 : bill_length_mm [NUMERICAL]\n",
            "\t490 : bill_depth_mm [NUMERICAL]\n",
            "\t436 : flipper_length_mm [NUMERICAL]\n",
            "\t333 : body_mass_g [NUMERICAL]\n",
            "\t332 : island [CATEGORICAL]\n",
            "\t31 : sex [CATEGORICAL]\n",
            "\t20 : year [NUMERICAL]\n",
            "\n",
            "Condition type in nodes:\n",
            "\t2035 : HigherCondition\n",
            "\t363 : ContainsBitmapCondition\n",
            "Condition type in nodes with depth \u003c= 0:\n",
            "\t292 : HigherCondition\n",
            "\t8 : ContainsBitmapCondition\n",
            "Condition type in nodes with depth \u003c= 1:\n",
            "\t731 : HigherCondition\n",
            "\t165 : ContainsBitmapCondition\n",
            "Condition type in nodes with depth \u003c= 2:\n",
            "\t1274 : HigherCondition\n",
            "\t282 : ContainsBitmapCondition\n",
            "Condition type in nodes with depth \u003c= 3:\n",
            "\t1794 : HigherCondition\n",
            "\t342 : ContainsBitmapCondition\n",
            "Condition type in nodes with depth \u003c= 5:\n",
            "\t2031 : HigherCondition\n",
            "\t363 : ContainsBitmapCondition\n",
            "\n",
            "Training OOB:\n",
            "\ttrees: 1, Out-of-bag evaluation: accuracy:0.961538 logloss:1.38629\n",
            "\ttrees: 300, Out-of-bag evaluation: accuracy:0.985465 logloss:0.070266\n",
            "\n"
          ]
        }
      ],
      "source": [
        "%output_height 300px\n",
        "model.summary()"
      ]
    },
    {
      "cell_type": "markdown",
      "metadata": {
        "id": "dtvAH26EfSgY"
      },
      "source": [
        "Remark the multiple variable importances with name `MEAN_DECREASE_IN_*`."
      ]
    },
    {
      "cell_type": "markdown",
      "metadata": {
        "id": "xTwmx8A0c4TU"
      },
      "source": [
        "## Plotting the model\n",
        "\n",
        "Next, we plot our model.\n",
        "\n",
        "A Random Forest is a large model (this model has 300 trees and ~5k nodes; see the summary above). Therefore, we will only plot the first tree, and limit the nodes to depth 3."
      ]
    },
    {
      "cell_type": "code",
      "execution_count": null,
      "metadata": {
        "colab": {
          "height": 223
        },
        "executionInfo": {
          "elapsed": 148,
          "status": "ok",
          "timestamp": 1618314034771,
          "user": {
            "displayName": "Mathieu Guillame-bert",
            "photoUrl": "https://lh3.googleusercontent.com/a-/AOh14GhZmVfZNxOIncSEWK9Dm0WZQR_i_MKVBuWd7p__iA=s64",
            "userId": "08965950364875513117"
          },
          "user_tz": -120
        },
        "id": "ZRTrXDz_dIAQ",
        "outputId": "0be238da-c386-4ec8-a935-6d171be561b7"
      },
      "outputs": [
        {
          "data": {
            "text/html": [
              "\n",
              "\u003cscript src=\"https://d3js.org/d3.v6.min.js\"\u003e\u003c/script\u003e\n",
              "\u003cdiv id=\"tree_plot_202ce673819b4db8a294853d5fa5a04c\"\u003e\u003c/div\u003e\n",
              "\u003cscript\u003e\n",
              "/**\n",
              " *  Plotting of decision trees generated by TF-DF.\n",
              " *\n",
              " *  A tree is a recursive structure of node objects.\n",
              " *  A node contains one or more of the following components:\n",
              " *\n",
              " *    - A value: Representing the output of the node. If the node is not a leaf,\n",
              " *      the value is only present for analysis i.e. it is not used for\n",
              " *      predictions.\n",
              " *\n",
              " *    - A condition : For non-leaf nodes, the condition (also known as split)\n",
              " *      defines a binary test to branch to the positive or negative child.\n",
              " *\n",
              " *    - An explanation: Generally a plot showing the relation between the label\n",
              " *      and the condition to give insights about the effect of the condition.\n",
              " *\n",
              " *    - Two children : For non-leaf nodes, the children nodes. The first\n",
              " *      children (i.e. \"node.children[0]\") is the negative children (drawn in\n",
              " *      red). The second children is the positive one (drawn in green).\n",
              " *\n",
              " */\n",
              "\n",
              "/**\n",
              " * Generate the default options object.\n",
              " * @return {!options} Default configuration options.\n",
              " */\n",
              "function build_default_options() {\n",
              "  // Display configuration.\n",
              "  // Note: Dimensions are expressed in pixels.\n",
              "  return {\n",
              "    // Margin around the entire plot.\n",
              "    margin: 10,\n",
              "\n",
              "    // Size of a tree node.\n",
              "    node_x_size: 160,\n",
              "    node_y_size: 12 * 2 + 4,\n",
              "\n",
              "    // Space between tree nodes.\n",
              "    node_x_offset: 160 + 20,\n",
              "    node_y_offset: 12 * 2 + 4 + 5,\n",
              "\n",
              "    // Text size.\n",
              "    font_size: 10,\n",
              "\n",
              "    // Rounding effect of the edges.\n",
              "    // This value is the distance (in pixel) of the Bezier control anchor from\n",
              "    // the source point.\n",
              "    edge_rounding: 20,\n",
              "\n",
              "    // Padding inside nodes.\n",
              "    node_padding: 2,\n",
              "\n",
              "    // Show a bb box around the plot. For debug only.\n",
              "    show_plot_bounding_box: false,\n",
              "  };\n",
              "}\n",
              "\n",
              "/**\n",
              " * Plots a single decision tree into a DOM element.\n",
              " * @param {!options} options Dictionary of configurations.\n",
              " * @param {!tree} raw_tree Recursive tree structure.\n",
              " * @param {string} canvas_id Id of the output dom element.\n",
              " */\n",
              "function display_tree(options, raw_tree, canvas_id) {\n",
              "  // Get default options.\n",
              "  const default_options = build_default_options();\n",
              "  Object.keys(default_options).forEach(function(key) {\n",
              "    if (!(key in options)) {\n",
              "      options[key] = default_options[key];\n",
              "    }\n",
              "  });\n",
              "\n",
              "  console.log(options);\n",
              "\n",
              "  // Determine the node placement.\n",
              "  const tree_struct = d3.tree().nodeSize(\n",
              "      [options.node_y_offset, options.node_x_offset])(d3.hierarchy(raw_tree));\n",
              "\n",
              "  // Boundaries of the node placement.\n",
              "  let x_min = Infinity;\n",
              "  let x_max = -x_min;\n",
              "  let y_min = Infinity;\n",
              "  let y_max = -x_min;\n",
              "\n",
              "  tree_struct.each(d =\u003e {\n",
              "    if (d.x \u003e x_max) x_max = d.x;\n",
              "    if (d.x \u003c x_min) x_min = d.x;\n",
              "    if (d.y \u003e y_max) y_max = d.y;\n",
              "    if (d.y \u003c y_min) y_min = d.y;\n",
              "  });\n",
              "\n",
              "  // Size of the plot.\n",
              "  const width = y_max - y_min + options.node_x_size + options.margin * 2;\n",
              "  const height = x_max - x_min + options.node_y_size + options.margin * 2 +\n",
              "      options.node_y_offset - options.node_y_size;\n",
              "\n",
              "  const plot = d3.select(canvas_id);\n",
              "\n",
              "  // Tool tip\n",
              "  options.tooltip = plot.append('div')\n",
              "                        .attr('width', 100)\n",
              "                        .attr('height', 100)\n",
              "                        .style('padding', '4px')\n",
              "                        .style('background', '#fff')\n",
              "                        .style('box-shadow', '4px 4px 0px rgba(0,0,0,0.1)')\n",
              "                        .style('border', '1px solid black')\n",
              "                        .style('font-family', 'sans-serif')\n",
              "                        .style('font-size', options.font_size)\n",
              "                        .style('position', 'absolute')\n",
              "                        .style('z-index', '10')\n",
              "                        .attr('pointer-events', 'none')\n",
              "                        .style('display', 'none');\n",
              "\n",
              "  // Create canvas\n",
              "  const svg = plot.append('svg').attr('width', width).attr('height', height);\n",
              "  const graph =\n",
              "      svg.style('overflow', 'visible')\n",
              "          .append('g')\n",
              "          .attr('font-family', 'sans-serif')\n",
              "          .attr('font-size', options.font_size)\n",
              "          .attr(\n",
              "              'transform',\n",
              "              () =\u003e `translate(${options.margin},${\n",
              "                  - x_min + options.node_y_offset / 2 + options.margin})`);\n",
              "\n",
              "  // Plot bounding box.\n",
              "  if (options.show_plot_bounding_box) {\n",
              "    svg.append('rect')\n",
              "        .attr('width', width)\n",
              "        .attr('height', height)\n",
              "        .attr('fill', 'none')\n",
              "        .attr('stroke-width', 1.0)\n",
              "        .attr('stroke', 'black');\n",
              "  }\n",
              "\n",
              "  // Draw the edges.\n",
              "  display_edges(options, graph, tree_struct);\n",
              "\n",
              "  // Draw the nodes.\n",
              "  display_nodes(options, graph, tree_struct);\n",
              "}\n",
              "\n",
              "/**\n",
              " * Draw the nodes of the tree.\n",
              " * @param {!options} options Dictionary of configurations.\n",
              " * @param {!graph} graph D3 search handle containing the graph.\n",
              " * @param {!tree_struct} tree_struct Structure of the tree (node placement,\n",
              " *     data, etc.).\n",
              " */\n",
              "function display_nodes(options, graph, tree_struct) {\n",
              "  const nodes = graph.append('g')\n",
              "                    .selectAll('g')\n",
              "                    .data(tree_struct.descendants())\n",
              "                    .join('g')\n",
              "                    .attr('transform', d =\u003e `translate(${d.y},${d.x})`);\n",
              "\n",
              "  nodes.append('rect')\n",
              "      .attr('x', 0.5)\n",
              "      .attr('y', 0.5)\n",
              "      .attr('width', options.node_x_size)\n",
              "      .attr('height', options.node_y_size)\n",
              "      .attr('stroke', 'lightgrey')\n",
              "      .attr('stroke-width', 1)\n",
              "      .attr('fill', 'white')\n",
              "      .attr('y', -options.node_y_size / 2);\n",
              "\n",
              "  // Brackets on the right of condition nodes without children.\n",
              "  non_leaf_node_without_children =\n",
              "      nodes.filter(node =\u003e node.data.condition != null \u0026\u0026 node.children == null)\n",
              "          .append('g')\n",
              "          .attr('transform', `translate(${options.node_x_size},0)`);\n",
              "\n",
              "  non_leaf_node_without_children.append('path')\n",
              "      .attr('d', 'M0,0 C 10,0 0,10 10,10')\n",
              "      .attr('fill', 'none')\n",
              "      .attr('stroke-width', 1.0)\n",
              "      .attr('stroke', '#F00');\n",
              "\n",
              "  non_leaf_node_without_children.append('path')\n",
              "      .attr('d', 'M0,0 C 10,0 0,-10 10,-10')\n",
              "      .attr('fill', 'none')\n",
              "      .attr('stroke-width', 1.0)\n",
              "      .attr('stroke', '#0F0');\n",
              "\n",
              "  const node_content = nodes.append('g').attr(\n",
              "      'transform',\n",
              "      `translate(0,${options.node_padding - options.node_y_size / 2})`);\n",
              "\n",
              "  node_content.append(node =\u003e create_node_element(options, node));\n",
              "}\n",
              "\n",
              "/**\n",
              " * Creates the D3 content for a single node.\n",
              " * @param {!options} options Dictionary of configurations.\n",
              " * @param {!node} node Node to draw.\n",
              " * @return {!d3} D3 content.\n",
              " */\n",
              "function create_node_element(options, node) {\n",
              "  // Output accumulator.\n",
              "  let output = {\n",
              "    // Content to draw.\n",
              "    content: d3.create('svg:g'),\n",
              "    // Vertical offset to the next element to draw.\n",
              "    vertical_offset: 0\n",
              "  };\n",
              "\n",
              "  // Conditions.\n",
              "  if (node.data.condition != null) {\n",
              "    display_condition(options, node.data.condition, output);\n",
              "  }\n",
              "\n",
              "  // Values.\n",
              "  if (node.data.value != null) {\n",
              "    display_value(options, node.data.value, output);\n",
              "  }\n",
              "\n",
              "  // Explanations.\n",
              "  if (node.data.explanation != null) {\n",
              "    display_explanation(options, node.data.explanation, output);\n",
              "  }\n",
              "\n",
              "  return output.content.node();\n",
              "}\n",
              "\n",
              "\n",
              "/**\n",
              " * Adds a single line of text inside of a node.\n",
              " * @param {!options} options Dictionary of configurations.\n",
              " * @param {string} text Text to display.\n",
              " * @param {!output} output Output display accumulator.\n",
              " */\n",
              "function display_node_text(options, text, output) {\n",
              "  output.content.append('text')\n",
              "      .attr('x', options.node_padding)\n",
              "      .attr('y', output.vertical_offset)\n",
              "      .attr('alignment-baseline', 'hanging')\n",
              "      .text(text);\n",
              "  output.vertical_offset += 10;\n",
              "}\n",
              "\n",
              "/**\n",
              " * Adds a single line of text inside of a node with a tooltip.\n",
              " * @param {!options} options Dictionary of configurations.\n",
              " * @param {string} text Text to display.\n",
              " * @param {string} tooltip Text in the Tooltip.\n",
              " * @param {!output} output Output display accumulator.\n",
              " */\n",
              "function display_node_text_with_tooltip(options, text, tooltip, output) {\n",
              "  const item = output.content.append('text')\n",
              "                   .attr('x', options.node_padding)\n",
              "                   .attr('alignment-baseline', 'hanging')\n",
              "                   .text(text);\n",
              "\n",
              "  add_tooltip(options, item, () =\u003e tooltip);\n",
              "  output.vertical_offset += 10;\n",
              "}\n",
              "\n",
              "/**\n",
              " * Adds a tooltip to a dom element.\n",
              " * @param {!options} options Dictionary of configurations.\n",
              " * @param {!dom} target Dom element to equip with a tooltip.\n",
              " * @param {!func} get_content Generates the html content of the tooltip.\n",
              " */\n",
              "function add_tooltip(options, target, get_content) {\n",
              "  function show(d) {\n",
              "    options.tooltip.style('display', 'block');\n",
              "    options.tooltip.html(get_content());\n",
              "  }\n",
              "\n",
              "  function hide(d) {\n",
              "    options.tooltip.style('display', 'none');\n",
              "  }\n",
              "\n",
              "  function move(d) {\n",
              "    console.log('MOVE', d);\n",
              "    options.tooltip.style('display', 'block');\n",
              "    options.tooltip.style('left', (d.pageX + 5) + 'px');\n",
              "    options.tooltip.style('top', d.pageY + 'px');\n",
              "  }\n",
              "\n",
              "  target.on('mouseover', show);\n",
              "  target.on('mouseout', hide);\n",
              "  target.on('mousemove', move);\n",
              "}\n",
              "\n",
              "/**\n",
              " * Adds a condition inside of a node.\n",
              " * @param {!options} options Dictionary of configurations.\n",
              " * @param {!condition} condition Condition to display.\n",
              " * @param {!output} output Output display accumulator.\n",
              " */\n",
              "function display_condition(options, condition, output) {\n",
              "  threshold_format = d3.format('r');\n",
              "\n",
              "  if (condition.type === 'IS_MISSING') {\n",
              "    display_node_text(options, `${condition.attribute} is missing`, output);\n",
              "    return;\n",
              "  }\n",
              "\n",
              "  if (condition.type === 'IS_TRUE') {\n",
              "    display_node_text(options, `${condition.attribute} is true`, output);\n",
              "    return;\n",
              "  }\n",
              "\n",
              "  if (condition.type === 'NUMERICAL_IS_HIGHER_THAN') {\n",
              "    format = d3.format('r');\n",
              "    display_node_text(\n",
              "        options,\n",
              "        `${condition.attribute} \u003e= ${threshold_format(condition.threshold)}`,\n",
              "        output);\n",
              "    return;\n",
              "  }\n",
              "\n",
              "  if (condition.type === 'CATEGORICAL_IS_IN') {\n",
              "    display_node_text_with_tooltip(\n",
              "        options, `${condition.attribute} in [...]`,\n",
              "        `${condition.attribute} in [${condition.mask}]`, output);\n",
              "    return;\n",
              "  }\n",
              "\n",
              "  if (condition.type === 'CATEGORICAL_SET_CONTAINS') {\n",
              "    display_node_text_with_tooltip(\n",
              "        options, `${condition.attribute} intersect [...]`,\n",
              "        `${condition.attribute} intersect [${condition.mask}]`, output);\n",
              "    return;\n",
              "  }\n",
              "\n",
              "  if (condition.type === 'NUMERICAL_SPARSE_OBLIQUE') {\n",
              "    display_node_text_with_tooltip(\n",
              "        options, `Sparse oblique split...`,\n",
              "        `[${condition.attributes}]*[${condition.weights}]\u003e=${\n",
              "            threshold_format(condition.threshold)}`,\n",
              "        output);\n",
              "    return;\n",
              "  }\n",
              "\n",
              "  display_node_text(\n",
              "      options, `Non supported condition ${condition.type}`, output);\n",
              "}\n",
              "\n",
              "/**\n",
              " * Adds a value inside of a node.\n",
              " * @param {!options} options Dictionary of configurations.\n",
              " * @param {!value} value Value to display.\n",
              " * @param {!output} output Output display accumulator.\n",
              " */\n",
              "function display_value(options, value, output) {\n",
              "  if (value.type === 'PROBABILITY') {\n",
              "    const left_margin = 0;\n",
              "    const right_margin = 50;\n",
              "    const plot_width = options.node_x_size - options.node_padding * 2 -\n",
              "        left_margin - right_margin;\n",
              "\n",
              "    let cusum = Array.from(d3.cumsum(value.distribution));\n",
              "    cusum.unshift(0);\n",
              "    const distribution_plot = output.content.append('g').attr(\n",
              "        'transform', `translate(0,${output.vertical_offset + 0.5})`);\n",
              "\n",
              "    distribution_plot.selectAll('rect')\n",
              "        .data(value.distribution)\n",
              "        .join('rect')\n",
              "        .attr('height', 10)\n",
              "        .attr(\n",
              "            'x',\n",
              "            (d, i) =\u003e\n",
              "                (cusum[i] * plot_width + left_margin + options.node_padding))\n",
              "        .attr('width', (d, i) =\u003e d * plot_width)\n",
              "        .style('fill', (d, i) =\u003e d3.schemeSet1[i]);\n",
              "\n",
              "    const num_examples =\n",
              "        output.content.append('g')\n",
              "            .attr('transform', `translate(0,${output.vertical_offset})`)\n",
              "            .append('text')\n",
              "            .attr('x', options.node_x_size - options.node_padding)\n",
              "            .attr('alignment-baseline', 'hanging')\n",
              "            .attr('text-anchor', 'end')\n",
              "            .text(`(${value.num_examples})`);\n",
              "\n",
              "    const distribution_details = d3.create('ul');\n",
              "    distribution_details.selectAll('li')\n",
              "        .data(value.distribution)\n",
              "        .join('li')\n",
              "        .append('span')\n",
              "        .text(\n",
              "            (d, i) =\u003e\n",
              "                'class ' + i + ': ' + d3.format('.3%')(value.distribution[i]));\n",
              "\n",
              "    add_tooltip(options, distribution_plot, () =\u003e distribution_details.html());\n",
              "    add_tooltip(options, num_examples, () =\u003e 'Number of examples');\n",
              "\n",
              "    output.vertical_offset += 10;\n",
              "    return;\n",
              "  }\n",
              "\n",
              "  if (value.type === 'REGRESSION') {\n",
              "    display_node_text(\n",
              "        options,\n",
              "        'value: ' + d3.format('r')(value.value) + ` (${value.num_examples})`,\n",
              "        output);\n",
              "    return;\n",
              "  }\n",
              "\n",
              "  display_node_text(options, `Non supported value ${value.type}`, output);\n",
              "}\n",
              "\n",
              "/**\n",
              " * Adds an explanation inside of a node.\n",
              " * @param {!options} options Dictionary of configurations.\n",
              " * @param {!explanation} explanation Explanation to display.\n",
              " * @param {!output} output Output display accumulator.\n",
              " */\n",
              "function display_explanation(options, explanation, output) {\n",
              "  // Margin before the explanation.\n",
              "  output.vertical_offset += 10;\n",
              "\n",
              "  display_node_text(\n",
              "      options, `Non supported explanation ${explanation.type}`, output);\n",
              "}\n",
              "\n",
              "\n",
              "/**\n",
              " * Draw the edges of the tree.\n",
              " * @param {!options} options Dictionary of configurations.\n",
              " * @param {!graph} graph D3 search handle containing the graph.\n",
              " * @param {!tree_struct} tree_struct Structure of the tree (node placement,\n",
              " *     data, etc.).\n",
              " */\n",
              "function display_edges(options, graph, tree_struct) {\n",
              "  // Draw an edge between a parent and a child node with a bezier.\n",
              "  function draw_single_edge(d) {\n",
              "    return 'M' + (d.source.y + options.node_x_size) + ',' + d.source.x + ' C' +\n",
              "        (d.source.y + options.node_x_size + options.edge_rounding) + ',' +\n",
              "        d.source.x + ' ' + (d.target.y - options.edge_rounding) + ',' +\n",
              "        d.target.x + ' ' + d.target.y + ',' + d.target.x;\n",
              "  }\n",
              "\n",
              "  graph.append('g')\n",
              "      .attr('fill', 'none')\n",
              "      .attr('stroke-width', 1.2)\n",
              "      .selectAll('path')\n",
              "      .data(tree_struct.links())\n",
              "      .join('path')\n",
              "      .attr('d', draw_single_edge)\n",
              "      .attr(\n",
              "          'stroke', d =\u003e (d.target === d.source.children[0]) ? '#0F0' : '#F00');\n",
              "}\n",
              "\n",
              "display_tree({}, {\"value\": {\"type\": \"PROBABILITY\", \"distribution\": [0.4418604651162791, 0.15988372093023256, 0.39825581395348836], \"num_examples\": 344.0}, \"condition\": {\"type\": \"NUMERICAL_IS_HIGHER_THAN\", \"attribute\": \"bill_depth_mm\", \"threshold\": 16.349998474121094}, \"children\": [{\"value\": {\"type\": \"PROBABILITY\", \"distribution\": [0.6901408450704225, 0.25821596244131456, 0.051643192488262914], \"num_examples\": 213.0}, \"condition\": {\"type\": \"NUMERICAL_IS_HIGHER_THAN\", \"attribute\": \"bill_length_mm\", \"threshold\": 42.349998474121094}, \"children\": [{\"value\": {\"type\": \"PROBABILITY\", \"distribution\": [0.25, 0.625, 0.125], \"num_examples\": 88.0}, \"condition\": {\"type\": \"NUMERICAL_IS_HIGHER_THAN\", \"attribute\": \"body_mass_g\", \"threshold\": 4975.0}, \"children\": [{\"value\": {\"type\": \"PROBABILITY\", \"distribution\": [0.0, 0.0, 1.0], \"num_examples\": 10.0}}, {\"value\": {\"type\": \"PROBABILITY\", \"distribution\": [0.28205128205128205, 0.7051282051282052, 0.01282051282051282], \"num_examples\": 78.0}, \"condition\": {\"type\": \"CATEGORICAL_IS_IN\", \"attribute\": \"island\", \"mask\": [\"Biscoe\", \"Torgersen\"]}}]}, {\"value\": {\"type\": \"PROBABILITY\", \"distribution\": [1.0, 0.0, 0.0], \"num_examples\": 125.0}}]}, {\"value\": {\"type\": \"PROBABILITY\", \"distribution\": [0.03816793893129771, 0.0, 0.9618320610687023], \"num_examples\": 131.0}, \"condition\": {\"type\": \"NUMERICAL_IS_HIGHER_THAN\", \"attribute\": \"flipper_length_mm\", \"threshold\": 195.5}, \"children\": [{\"value\": {\"type\": \"PROBABILITY\", \"distribution\": [0.0, 0.0, 1.0], \"num_examples\": 126.0}}, {\"value\": {\"type\": \"PROBABILITY\", \"distribution\": [1.0, 0.0, 0.0], \"num_examples\": 5.0}}]}]}, \"#tree_plot_202ce673819b4db8a294853d5fa5a04c\")\n",
              "\u003c/script\u003e\n"
            ],
            "text/plain": [
              "\u003cIPython.core.display.HTML at 0x7faebc650f28\u003e"
            ]
          },
          "execution_count": 6,
          "metadata": {
            "tags": []
          },
          "output_type": "execute_result"
        }
      ],
      "source": [
        "tfdf.model_plotter.plot_model_in_colab(model, tree_idx=0, max_depth=3)"
      ]
    },
    {
      "cell_type": "markdown",
      "metadata": {
        "id": "lOlieoz2c-GA"
      },
      "source": [
        "## Inspect the model structure\n",
        "\n",
        "The model structure and meta-data is\n",
        "available through the **inspector** created by `make_inspector()`.\n",
        "\n",
        "**Note:** Depending on the learning algorithm and hyper-parameters, the\n",
        "inspector will expose different specialized attributes. For examples, the\n",
        "`winner_take_all` field is specific to Random Forest models."
      ]
    },
    {
      "cell_type": "code",
      "execution_count": null,
      "metadata": {
        "id": "KHc8IcW1c8ER"
      },
      "outputs": [],
      "source": [
        "inspector = model.make_inspector()"
      ]
    },
    {
      "cell_type": "markdown",
      "metadata": {
        "id": "RDdUhqaSsNnQ"
      },
      "source": [
        "For our model, the available inspector fields are:"
      ]
    },
    {
      "cell_type": "code",
      "execution_count": null,
      "metadata": {
        "executionInfo": {
          "elapsed": 56,
          "status": "ok",
          "timestamp": 1618314035043,
          "user": {
            "displayName": "Mathieu Guillame-bert",
            "photoUrl": "https://lh3.googleusercontent.com/a-/AOh14GhZmVfZNxOIncSEWK9Dm0WZQR_i_MKVBuWd7p__iA=s64",
            "userId": "08965950364875513117"
          },
          "user_tz": -120
        },
        "id": "jx54DFjRsA7k",
        "outputId": "230b88a3-bc8b-4a8e-9f1e-277f6821004b"
      },
      "outputs": [
        {
          "data": {
            "text/plain": [
              "['MODEL_NAME',\n",
              " 'dataspec',\n",
              " 'evaluation',\n",
              " 'extract_tree',\n",
              " 'features',\n",
              " 'iterate_on_nodes',\n",
              " 'label',\n",
              " 'label_classes',\n",
              " 'model_type',\n",
              " 'num_trees',\n",
              " 'objective',\n",
              " 'specialized_header',\n",
              " 'task',\n",
              " 'variable_importances',\n",
              " 'winner_take_all_inference']"
            ]
          },
          "execution_count": 8,
          "metadata": {
            "tags": []
          },
          "output_type": "execute_result"
        }
      ],
      "source": [
        "[field for field in dir(inspector) if not field.startswith(\"_\")]"
      ]
    },
    {
      "cell_type": "markdown",
      "metadata": {
        "id": "_QJFITMQsgtK"
      },
      "source": [
        "Remember to use `?` for the online documentation :)."
      ]
    },
    {
      "cell_type": "code",
      "execution_count": null,
      "metadata": {
        "id": "YCGkpRkssdCb"
      },
      "outputs": [],
      "source": [
        "?inspector.model_type"
      ]
    },
    {
      "cell_type": "markdown",
      "metadata": {
        "id": "nd-fOgmjd1oK"
      },
      "source": [
        "Some of the model meta-data:"
      ]
    },
    {
      "cell_type": "code",
      "execution_count": null,
      "metadata": {
        "executionInfo": {
          "elapsed": 90,
          "status": "ok",
          "timestamp": 1618314035263,
          "user": {
            "displayName": "Mathieu Guillame-bert",
            "photoUrl": "https://lh3.googleusercontent.com/a-/AOh14GhZmVfZNxOIncSEWK9Dm0WZQR_i_MKVBuWd7p__iA=s64",
            "userId": "08965950364875513117"
          },
          "user_tz": -120
        },
        "id": "Iu_To_z9d35G",
        "outputId": "9b6d3ae4-165f-404c-d202-fe6e55dba555"
      },
      "outputs": [
        {
          "name": "stdout",
          "output_type": "stream",
          "text": [
            "Model type: RANDOM_FOREST\n",
            "Number of trees: 300\n",
            "Objective: Classification(label=__LABEL, class=None, num_classes=5)\n",
            "Input features: [\"bill_depth_mm\" (1; #0), \"bill_length_mm\" (1; #1), \"body_mass_g\" (1; #2), \"flipper_length_mm\" (1; #3), \"island\" (4; #4), \"sex\" (4; #5), \"year\" (1; #6)]\n"
          ]
        }
      ],
      "source": [
        "print(\"Model type:\", inspector.model_type())\n",
        "print(\"Number of trees:\", inspector.num_trees())\n",
        "print(\"Objective:\", inspector.objective())\n",
        "print(\"Input features:\", inspector.features())"
      ]
    },
    {
      "cell_type": "markdown",
      "metadata": {
        "id": "Zs7b8EBud9JM"
      },
      "source": [
        "`evaluate()` is the evaluation of the model computed during training. The dataset used for this evaluation depends on the algorithm. For example, it can be the validation dataset or the out-of-bag-dataset .\n",
        "\n",
        "**Note:** While computed during training, `evaluate()` is never an evaluation on the\n",
        "training dataset."
      ]
    },
    {
      "cell_type": "code",
      "execution_count": null,
      "metadata": {
        "executionInfo": {
          "elapsed": 59,
          "status": "ok",
          "timestamp": 1618314035524,
          "user": {
            "displayName": "Mathieu Guillame-bert",
            "photoUrl": "https://lh3.googleusercontent.com/a-/AOh14GhZmVfZNxOIncSEWK9Dm0WZQR_i_MKVBuWd7p__iA=s64",
            "userId": "08965950364875513117"
          },
          "user_tz": -120
        },
        "id": "uVN-j0E4Q1T3",
        "outputId": "18cabb91-19d5-45ce-c05e-26faa4843f62"
      },
      "outputs": [
        {
          "data": {
            "text/plain": [
              "Evaluation(num_examples=344, accuracy=0.9854651162790697, loss=None, rmse=None, ndcg=None, aucs=None)"
            ]
          },
          "execution_count": 11,
          "metadata": {
            "tags": []
          },
          "output_type": "execute_result"
        }
      ],
      "source": [
        "inspector.evaluation()"
      ]
    },
    {
      "cell_type": "markdown",
      "metadata": {
        "id": "2r6Yrjb7f5KH"
      },
      "source": [
        "The variable importances are:"
      ]
    },
    {
      "cell_type": "code",
      "execution_count": null,
      "metadata": {
        "executionInfo": {
          "elapsed": 115,
          "status": "ok",
          "timestamp": 1618314035648,
          "user": {
            "displayName": "Mathieu Guillame-bert",
            "photoUrl": "https://lh3.googleusercontent.com/a-/AOh14GhZmVfZNxOIncSEWK9Dm0WZQR_i_MKVBuWd7p__iA=s64",
            "userId": "08965950364875513117"
          },
          "user_tz": -120
        },
        "id": "qoqhhmGjf7ED",
        "outputId": "c1dac3bc-b215-48d4-bd63-284aba68474f"
      },
      "outputs": [
        {
          "name": "stdout",
          "output_type": "stream",
          "text": [
            "Available variable importances:\n",
            "\t MEAN_DECREASE_IN_AUC_2_VS_OTHERS\n",
            "\t MEAN_DECREASE_IN_PRAUC_2_VS_OTHERS\n",
            "\t MEAN_DECREASE_IN_PRAUC_3_VS_OTHERS\n",
            "\t MEAN_DECREASE_IN_AUC_1_VS_OTHERS\n",
            "\t MEAN_DECREASE_IN_AP_3_VS_OTHERS\n",
            "\t MEAN_DECREASE_IN_AP_2_VS_OTHERS\n",
            "\t MEAN_DECREASE_IN_ACCURACY\n",
            "\t MEAN_DECREASE_IN_AP_1_VS_OTHERS\n",
            "\t MEAN_DECREASE_IN_PRAUC_1_VS_OTHERS\n",
            "\t MEAN_DECREASE_IN_AUC_3_VS_OTHERS\n",
            "\t NUM_AS_ROOT\n"
          ]
        }
      ],
      "source": [
        "print(f\"Available variable importances:\")\n",
        "for importance in inspector.variable_importances().keys():\n",
        "  print(\"\\t\", importance)"
      ]
    },
    {
      "cell_type": "markdown",
      "metadata": {
        "id": "8QUW8w-UmCoW"
      },
      "source": [
        "Different variable importances have different semantics. For example, a feature\n",
        "with a **mean decrease in auc** of `0.05` means that removing this feature from\n",
        "the training dataset would reduce/hurt the AUC by 5%."
      ]
    },
    {
      "cell_type": "code",
      "execution_count": null,
      "metadata": {
        "executionInfo": {
          "elapsed": 135,
          "status": "ok",
          "timestamp": 1618314035798,
          "user": {
            "displayName": "Mathieu Guillame-bert",
            "photoUrl": "https://lh3.googleusercontent.com/a-/AOh14GhZmVfZNxOIncSEWK9Dm0WZQR_i_MKVBuWd7p__iA=s64",
            "userId": "08965950364875513117"
          },
          "user_tz": -120
        },
        "id": "OoSG5T8ShSdG",
        "outputId": "b2bb8d68-1d8e-4e63-d7ec-93fea6e41d10"
      },
      "outputs": [
        {
          "data": {
            "text/plain": [
              "[(\"bill_length_mm\" (1; #1), 0.0674170778508777),\n",
              " (\"flipper_length_mm\" (1; #3), 0.004591557017544323),\n",
              " (\"island\" (4; #4), 0.0036321271929831145),\n",
              " (\"bill_depth_mm\" (1; #0), 0.0016790021929830035),\n",
              " (\"body_mass_g\" (1; #2), 0.0005825109649123528),\n",
              " (\"sex\" (4; #5), 0.0002912554824563429),\n",
              " (\"year\" (1; #6), 5.139802631570767e-05)]"
            ]
          },
          "execution_count": 13,
          "metadata": {
            "tags": []
          },
          "output_type": "execute_result"
        }
      ],
      "source": [
        "# Mean decrease in AUC of the class 1 vs the others.\n",
        "inspector.variable_importances()[\"MEAN_DECREASE_IN_AUC_1_VS_OTHERS\"]"
      ]
    },
    {
      "cell_type": "markdown",
      "metadata": {
        "id": "q_-kLTNjhaQo"
      },
      "source": [
        "Finaly, we access the actual tree structure:"
      ]
    },
    {
      "cell_type": "code",
      "execution_count": null,
      "metadata": {
        "executionInfo": {
          "elapsed": 174,
          "status": "ok",
          "timestamp": 1618314036038,
          "user": {
            "displayName": "Mathieu Guillame-bert",
            "photoUrl": "https://lh3.googleusercontent.com/a-/AOh14GhZmVfZNxOIncSEWK9Dm0WZQR_i_MKVBuWd7p__iA=s64",
            "userId": "08965950364875513117"
          },
          "user_tz": -120
        },
        "id": "l4N_heuzhcUS",
        "outputId": "afd1e80d-2a5a-42ee-a09e-446a79306de2"
      },
      "outputs": [
        {
          "data": {
            "text/plain": [
              "Tree(NonLeafNode(condition=(bill_depth_mm \u003e= 16.349998474121094; miss=True), pos_child=NonLeafNode(condition=(bill_length_mm \u003e= 42.349998474121094; miss=True), pos_child=NonLeafNode(condition=(body_mass_g \u003e= 4975.0; miss=False), pos_child=LeafNode(value=ProbabilityValue([0.0, 0.0, 1.0],n=10.0)), neg_child=NonLeafNode(condition=(island in ['Biscoe', 'Torgersen']; miss=True), pos_child=NonLeafNode(condition=(flipper_length_mm \u003e= 198.95761108398438; miss=True), pos_child=LeafNode(value=ProbabilityValue([0.8333333333333334, 0.0, 0.16666666666666666],n=6.0)), neg_child=LeafNode(value=ProbabilityValue([1.0, 0.0, 0.0],n=14.0)), value=ProbabilityValue([0.95, 0.0, 0.05],n=20.0)), neg_child=NonLeafNode(condition=(bill_length_mm \u003e= 44.650001525878906; miss=False), pos_child=LeafNode(value=ProbabilityValue([0.0, 1.0, 0.0],n=49.0)), neg_child=LeafNode(value=ProbabilityValue([0.3333333333333333, 0.6666666666666666, 0.0],n=9.0)), value=ProbabilityValue([0.05172413793103448, 0.9482758620689655, 0.0],n=58.0)), value=ProbabilityValue([0.28205128205128205, 0.7051282051282052, 0.01282051282051282],n=78.0)), value=ProbabilityValue([0.25, 0.625, 0.125],n=88.0)), neg_child=LeafNode(value=ProbabilityValue([1.0, 0.0, 0.0],n=125.0)), value=ProbabilityValue([0.6901408450704225, 0.25821596244131456, 0.051643192488262914],n=213.0)), neg_child=NonLeafNode(condition=(flipper_length_mm \u003e= 195.5; miss=True), pos_child=LeafNode(value=ProbabilityValue([0.0, 0.0, 1.0],n=126.0)), neg_child=LeafNode(value=ProbabilityValue([1.0, 0.0, 0.0],n=5.0)), value=ProbabilityValue([0.03816793893129771, 0.0, 0.9618320610687023],n=131.0)), value=ProbabilityValue([0.4418604651162791, 0.15988372093023256, 0.39825581395348836],n=344.0)),label_classes={self.label_classes})"
            ]
          },
          "execution_count": 14,
          "metadata": {
            "tags": []
          },
          "output_type": "execute_result"
        }
      ],
      "source": [
        "inspector.extract_tree(tree_idx=0)"
      ]
    },
    {
      "cell_type": "markdown",
      "metadata": {
        "id": "B8u_0p80hoeP"
      },
      "source": [
        "Extracting a tree is not efficient. If speed is important, the model inspection can be done with the `iterate_on_nodes()` method instead. This method is a Depth First Pre-order traversals iterator on all the nodes of the model.\n",
        "\n",
        "**Note:** `extract_tree()` is implemented using `iterate_on_nodes()`.\n",
        "\n",
        "For following example computes how many times each feature is used (this is a\n",
        "kind of structural variable importance):"
      ]
    },
    {
      "cell_type": "code",
      "execution_count": null,
      "metadata": {
        "executionInfo": {
          "elapsed": 478,
          "status": "ok",
          "timestamp": 1618314036557,
          "user": {
            "displayName": "Mathieu Guillame-bert",
            "photoUrl": "https://lh3.googleusercontent.com/a-/AOh14GhZmVfZNxOIncSEWK9Dm0WZQR_i_MKVBuWd7p__iA=s64",
            "userId": "08965950364875513117"
          },
          "user_tz": -120
        },
        "id": "OUEpes34iHg8",
        "outputId": "36a623d0-9a48-46cc-8d8f-001d6013f07c"
      },
      "outputs": [
        {
          "name": "stdout",
          "output_type": "stream",
          "text": [
            "Number of condition nodes per features:\n",
            "\t bill_depth_mm : 491\n",
            "\t flipper_length_mm : 436\n",
            "\t bill_length_mm : 754\n",
            "\t body_mass_g : 334\n",
            "\t island : 332\n",
            "\t sex : 31\n",
            "\t year : 20\n"
          ]
        }
      ],
      "source": [
        "# number_of_use[F] will be the number of node using feature F in its condition.\n",
        "number_of_use = collections.defaultdict(lambda: 0)\n",
        "\n",
        "# Iterate over all the nodes in a Depth First Pre-order traversals.\n",
        "for node_iter in inspector.iterate_on_nodes():\n",
        "\n",
        "  if not isinstance(node_iter.node, tfdf.py_tree.node.NonLeafNode):\n",
        "    # Skip the leaf nodes\n",
        "    continue\n",
        "\n",
        "  # Iterate over all the features used in the condition.\n",
        "  # By default, models are \"oblique\" i.e. each node tests a single feature.\n",
        "  for feature in node_iter.node.condition.features():\n",
        "    number_of_use[feature] += 1\n",
        "\n",
        "print(\"Number of condition nodes per features:\")\n",
        "for feature, count in number_of_use.items():\n",
        "  print(\"\\t\", feature.name, \":\", count)"
      ]
    },
    {
      "cell_type": "markdown",
      "metadata": {
        "id": "CD39OmGbnPww"
      },
      "source": [
        "## Creating a model by hand\n",
        "\n",
        "In this section we will create a small Random Forest model by hand. To make it\n",
        "extra easy, the model will only contain one simple tree:\n",
        "\n",
        "```\n",
        "3 label classes: Red, blue and green.\n",
        "2 features: f1 (numerical) and f2 (string categorical)\n",
        "\n",
        "f1\u003e=1.5\n",
        "    ├─(pos)─ f2 in [\"cat\",\"dog\"]\n",
        "    │         ├─(pos)─ value: [0.8, 0.1, 0.1]\n",
        "    │         └─(neg)─ value: [0.1, 0.8, 0.1]\n",
        "    └─(neg)─ value: [0.1, 0.1, 0.8]\n",
        "```"
      ]
    },
    {
      "cell_type": "code",
      "execution_count": null,
      "metadata": {
        "id": "fGGe5IxdnuEa"
      },
      "outputs": [],
      "source": [
        "# Create the model builder\n",
        "builder = tfdf.builder.RandomForestBuilder(\n",
        "    path=\"/tmp/manual_model\",\n",
        "    objective=tfdf.py_tree.objective.ClassificationObjective(\n",
        "        label=\"color\", classes=[\"red\", \"blue\", \"green\"]))"
      ]
    },
    {
      "cell_type": "markdown",
      "metadata": {
        "id": "DRnJ2u-Moqbf"
      },
      "source": [
        "Each tree is added one by one.\n",
        "\n",
        "**Note:** The tree object (`tfdf.py_tree.tree.Tree`) is the same as the one returned by `extract_tree()` in the previous section."
      ]
    },
    {
      "cell_type": "code",
      "execution_count": null,
      "metadata": {
        "id": "cmAddPhAo0tG"
      },
      "outputs": [],
      "source": [
        "# So alias\n",
        "Tree = tfdf.py_tree.tree.Tree\n",
        "SimpleColumnSpec = tfdf.py_tree.dataspec.SimpleColumnSpec\n",
        "ColumnType = tfdf.py_tree.dataspec.ColumnType\n",
        "# Nodes\n",
        "NonLeafNode = tfdf.py_tree.node.NonLeafNode\n",
        "LeafNode = tfdf.py_tree.node.LeafNode\n",
        "# Conditions\n",
        "NumericalHigherThanCondition = tfdf.py_tree.condition.NumericalHigherThanCondition\n",
        "CategoricalIsInCondition = tfdf.py_tree.condition.CategoricalIsInCondition\n",
        "# Leaf values\n",
        "ProbabilityValue = tfdf.py_tree.value.ProbabilityValue\n",
        "\n",
        "builder.add_tree(\n",
        "    Tree(\n",
        "        NonLeafNode(\n",
        "            condition=NumericalHigherThanCondition(\n",
        "                feature=SimpleColumnSpec(name=\"f1\", type=ColumnType.NUMERICAL),\n",
        "                threshold=1.5,\n",
        "                missing_evaluation=False),\n",
        "            pos_child=NonLeafNode(\n",
        "                condition=CategoricalIsInCondition(\n",
        "                    feature=SimpleColumnSpec(name=\"f2\",type=ColumnType.CATEGORICAL),\n",
        "                    mask=[\"cat\", \"dog\"],\n",
        "                    missing_evaluation=False),\n",
        "                pos_child=LeafNode(value=ProbabilityValue(probability=[0.8, 0.1, 0.1], num_examples=10)),\n",
        "                neg_child=LeafNode(value=ProbabilityValue(probability=[0.1, 0.8, 0.1], num_examples=20))),\n",
        "            neg_child=LeafNode(value=ProbabilityValue(probability=[0.1, 0.1, 0.8], num_examples=30)))))"
      ]
    },
    {
      "cell_type": "markdown",
      "metadata": {
        "id": "DjWdgRNNqEAD"
      },
      "source": [
        "Conclude the tree writing"
      ]
    },
    {
      "cell_type": "code",
      "execution_count": null,
      "metadata": {
        "id": "cJqn4khxqH6t"
      },
      "outputs": [],
      "source": [
        "builder.close()"
      ]
    },
    {
      "cell_type": "markdown",
      "metadata": {
        "id": "_oxxXAn7qK-z"
      },
      "source": [
        "We can then open the model as a regular keras model:"
      ]
    },
    {
      "cell_type": "code",
      "execution_count": null,
      "metadata": {
        "id": "ETwjOJ5uqP5i"
      },
      "outputs": [],
      "source": [
        "manual_model = tf.keras.models.load_model(\"/tmp/manual_model\")"
      ]
    },
    {
      "cell_type": "markdown",
      "metadata": {
        "id": "YEuSOnfOqS2j"
      },
      "source": [
        "and make predictions"
      ]
    },
    {
      "cell_type": "code",
      "execution_count": null,
      "metadata": {
        "executionInfo": {
          "elapsed": 107,
          "status": "ok",
          "timestamp": 1618314037798,
          "user": {
            "displayName": "Mathieu Guillame-bert",
            "photoUrl": "https://lh3.googleusercontent.com/a-/AOh14GhZmVfZNxOIncSEWK9Dm0WZQR_i_MKVBuWd7p__iA=s64",
            "userId": "08965950364875513117"
          },
          "user_tz": -120
        },
        "id": "qlC4N-LuqWWR",
        "outputId": "f8a90ee1-fde9-4efe-ff12-e9fed7dcc17f"
      },
      "outputs": [
        {
          "name": "stdout",
          "output_type": "stream",
          "text": [
            "predictions:\n",
            " [[0.1 0.1 0.8]\n",
            " [0.8 0.1 0.1]\n",
            " [0.1 0.8 0.1]]\n"
          ]
        }
      ],
      "source": [
        "examples = tf.data.Dataset.from_tensor_slices({\n",
        "        \"f1\": [1.0, 2.0, 3.0],\n",
        "        \"f2\": [\"cat\", \"cat\", \"bird\"]\n",
        "    }).batch(2)\n",
        "\n",
        "predictions = manual_model.predict(examples)\n",
        "\n",
        "print(\"predictions:\\n\",predictions)"
      ]
    },
    {
      "cell_type": "markdown",
      "metadata": {
        "id": "mxJyp1mKFPXb"
      },
      "source": [
        "Access the structure:\n",
        "\n",
        "**Note:** Because the model is serialized-and-deserialized, you need to use an alternative but equivalent form."
      ]
    },
    {
      "cell_type": "code",
      "execution_count": null,
      "metadata": {
        "executionInfo": {
          "elapsed": 149,
          "status": "ok",
          "timestamp": 1618314998180,
          "user": {
            "displayName": "Mathieu Guillame-bert",
            "photoUrl": "https://lh3.googleusercontent.com/a-/AOh14GhZmVfZNxOIncSEWK9Dm0WZQR_i_MKVBuWd7p__iA=s64",
            "userId": "08965950364875513117"
          },
          "user_tz": -120
        },
        "id": "IjcyMHJUFO_B",
        "outputId": "abc45d8d-c126-4dbe-a79e-317331d75225"
      },
      "outputs": [
        {
          "name": "stdout",
          "output_type": "stream",
          "text": [
            "yggdrasil_model_path: /tmp/manual_model/assets/\n",
            "Input features: [\"f1\" (1; #1), \"f2\" (4; #2)]\n"
          ]
        }
      ],
      "source": [
        "yggdrasil_model_path = manual_model.yggdrasil_model_path_tensor().numpy().decode(\"utf-8\")\n",
        "print(\"yggdrasil_model_path:\",yggdrasil_model_path)\n",
        "\n",
        "inspector = tfdf.inspector.make_inspector(yggdrasil_model_path)\n",
        "print(\"Input features:\", inspector.features())"
      ]
    },
    {
      "cell_type": "markdown",
      "metadata": {
        "id": "muW1hgmotx8J"
      },
      "source": [
        "And of course, you can plot the model :)"
      ]
    },
    {
      "cell_type": "code",
      "execution_count": null,
      "metadata": {
        "colab": {
          "height": 124
        },
        "executionInfo": {
          "elapsed": 139,
          "status": "ok",
          "timestamp": 1618314050294,
          "user": {
            "displayName": "Mathieu Guillame-bert",
            "photoUrl": "https://lh3.googleusercontent.com/a-/AOh14GhZmVfZNxOIncSEWK9Dm0WZQR_i_MKVBuWd7p__iA=s64",
            "userId": "08965950364875513117"
          },
          "user_tz": -120
        },
        "id": "bqahDVg3t1xM",
        "outputId": "0d27a3b3-ac9a-4761-99ce-b18552920f8d"
      },
      "outputs": [
        {
          "data": {
            "text/html": [
              "\n",
              "\u003cscript src=\"https://d3js.org/d3.v6.min.js\"\u003e\u003c/script\u003e\n",
              "\u003cdiv id=\"tree_plot_000ea4a2b8a94787bdcc6a1f86bce6b7\"\u003e\u003c/div\u003e\n",
              "\u003cscript\u003e\n",
              "/**\n",
              " *  Plotting of decision trees generated by TF-DF.\n",
              " *\n",
              " *  A tree is a recursive structure of node objects.\n",
              " *  A node contains one or more of the following components:\n",
              " *\n",
              " *    - A value: Representing the output of the node. If the node is not a leaf,\n",
              " *      the value is only present for analysis i.e. it is not used for\n",
              " *      predictions.\n",
              " *\n",
              " *    - A condition : For non-leaf nodes, the condition (also known as split)\n",
              " *      defines a binary test to branch to the positive or negative child.\n",
              " *\n",
              " *    - An explanation: Generally a plot showing the relation between the label\n",
              " *      and the condition to give insights about the effect of the condition.\n",
              " *\n",
              " *    - Two children : For non-leaf nodes, the children nodes. The first\n",
              " *      children (i.e. \"node.children[0]\") is the negative children (drawn in\n",
              " *      red). The second children is the positive one (drawn in green).\n",
              " *\n",
              " */\n",
              "\n",
              "/**\n",
              " * Generate the default options object.\n",
              " * @return {!options} Default configuration options.\n",
              " */\n",
              "function build_default_options() {\n",
              "  // Display configuration.\n",
              "  // Note: Dimensions are expressed in pixels.\n",
              "  return {\n",
              "    // Margin around the entire plot.\n",
              "    margin: 10,\n",
              "\n",
              "    // Size of a tree node.\n",
              "    node_x_size: 160,\n",
              "    node_y_size: 12 * 2 + 4,\n",
              "\n",
              "    // Space between tree nodes.\n",
              "    node_x_offset: 160 + 20,\n",
              "    node_y_offset: 12 * 2 + 4 + 5,\n",
              "\n",
              "    // Text size.\n",
              "    font_size: 10,\n",
              "\n",
              "    // Rounding effect of the edges.\n",
              "    // This value is the distance (in pixel) of the Bezier control anchor from\n",
              "    // the source point.\n",
              "    edge_rounding: 20,\n",
              "\n",
              "    // Padding inside nodes.\n",
              "    node_padding: 2,\n",
              "\n",
              "    // Show a bb box around the plot. For debug only.\n",
              "    show_plot_bounding_box: false,\n",
              "  };\n",
              "}\n",
              "\n",
              "/**\n",
              " * Plots a single decision tree into a DOM element.\n",
              " * @param {!options} options Dictionary of configurations.\n",
              " * @param {!tree} raw_tree Recursive tree structure.\n",
              " * @param {string} canvas_id Id of the output dom element.\n",
              " */\n",
              "function display_tree(options, raw_tree, canvas_id) {\n",
              "  // Get default options.\n",
              "  const default_options = build_default_options();\n",
              "  Object.keys(default_options).forEach(function(key) {\n",
              "    if (!(key in options)) {\n",
              "      options[key] = default_options[key];\n",
              "    }\n",
              "  });\n",
              "\n",
              "  console.log(options);\n",
              "\n",
              "  // Determine the node placement.\n",
              "  const tree_struct = d3.tree().nodeSize(\n",
              "      [options.node_y_offset, options.node_x_offset])(d3.hierarchy(raw_tree));\n",
              "\n",
              "  // Boundaries of the node placement.\n",
              "  let x_min = Infinity;\n",
              "  let x_max = -x_min;\n",
              "  let y_min = Infinity;\n",
              "  let y_max = -x_min;\n",
              "\n",
              "  tree_struct.each(d =\u003e {\n",
              "    if (d.x \u003e x_max) x_max = d.x;\n",
              "    if (d.x \u003c x_min) x_min = d.x;\n",
              "    if (d.y \u003e y_max) y_max = d.y;\n",
              "    if (d.y \u003c y_min) y_min = d.y;\n",
              "  });\n",
              "\n",
              "  // Size of the plot.\n",
              "  const width = y_max - y_min + options.node_x_size + options.margin * 2;\n",
              "  const height = x_max - x_min + options.node_y_size + options.margin * 2 +\n",
              "      options.node_y_offset - options.node_y_size;\n",
              "\n",
              "  const plot = d3.select(canvas_id);\n",
              "\n",
              "  // Tool tip\n",
              "  options.tooltip = plot.append('div')\n",
              "                        .attr('width', 100)\n",
              "                        .attr('height', 100)\n",
              "                        .style('padding', '4px')\n",
              "                        .style('background', '#fff')\n",
              "                        .style('box-shadow', '4px 4px 0px rgba(0,0,0,0.1)')\n",
              "                        .style('border', '1px solid black')\n",
              "                        .style('font-family', 'sans-serif')\n",
              "                        .style('font-size', options.font_size)\n",
              "                        .style('position', 'absolute')\n",
              "                        .style('z-index', '10')\n",
              "                        .attr('pointer-events', 'none')\n",
              "                        .style('display', 'none');\n",
              "\n",
              "  // Create canvas\n",
              "  const svg = plot.append('svg').attr('width', width).attr('height', height);\n",
              "  const graph =\n",
              "      svg.style('overflow', 'visible')\n",
              "          .append('g')\n",
              "          .attr('font-family', 'sans-serif')\n",
              "          .attr('font-size', options.font_size)\n",
              "          .attr(\n",
              "              'transform',\n",
              "              () =\u003e `translate(${options.margin},${\n",
              "                  - x_min + options.node_y_offset / 2 + options.margin})`);\n",
              "\n",
              "  // Plot bounding box.\n",
              "  if (options.show_plot_bounding_box) {\n",
              "    svg.append('rect')\n",
              "        .attr('width', width)\n",
              "        .attr('height', height)\n",
              "        .attr('fill', 'none')\n",
              "        .attr('stroke-width', 1.0)\n",
              "        .attr('stroke', 'black');\n",
              "  }\n",
              "\n",
              "  // Draw the edges.\n",
              "  display_edges(options, graph, tree_struct);\n",
              "\n",
              "  // Draw the nodes.\n",
              "  display_nodes(options, graph, tree_struct);\n",
              "}\n",
              "\n",
              "/**\n",
              " * Draw the nodes of the tree.\n",
              " * @param {!options} options Dictionary of configurations.\n",
              " * @param {!graph} graph D3 search handle containing the graph.\n",
              " * @param {!tree_struct} tree_struct Structure of the tree (node placement,\n",
              " *     data, etc.).\n",
              " */\n",
              "function display_nodes(options, graph, tree_struct) {\n",
              "  const nodes = graph.append('g')\n",
              "                    .selectAll('g')\n",
              "                    .data(tree_struct.descendants())\n",
              "                    .join('g')\n",
              "                    .attr('transform', d =\u003e `translate(${d.y},${d.x})`);\n",
              "\n",
              "  nodes.append('rect')\n",
              "      .attr('x', 0.5)\n",
              "      .attr('y', 0.5)\n",
              "      .attr('width', options.node_x_size)\n",
              "      .attr('height', options.node_y_size)\n",
              "      .attr('stroke', 'lightgrey')\n",
              "      .attr('stroke-width', 1)\n",
              "      .attr('fill', 'white')\n",
              "      .attr('y', -options.node_y_size / 2);\n",
              "\n",
              "  // Brackets on the right of condition nodes without children.\n",
              "  non_leaf_node_without_children =\n",
              "      nodes.filter(node =\u003e node.data.condition != null \u0026\u0026 node.children == null)\n",
              "          .append('g')\n",
              "          .attr('transform', `translate(${options.node_x_size},0)`);\n",
              "\n",
              "  non_leaf_node_without_children.append('path')\n",
              "      .attr('d', 'M0,0 C 10,0 0,10 10,10')\n",
              "      .attr('fill', 'none')\n",
              "      .attr('stroke-width', 1.0)\n",
              "      .attr('stroke', '#F00');\n",
              "\n",
              "  non_leaf_node_without_children.append('path')\n",
              "      .attr('d', 'M0,0 C 10,0 0,-10 10,-10')\n",
              "      .attr('fill', 'none')\n",
              "      .attr('stroke-width', 1.0)\n",
              "      .attr('stroke', '#0F0');\n",
              "\n",
              "  const node_content = nodes.append('g').attr(\n",
              "      'transform',\n",
              "      `translate(0,${options.node_padding - options.node_y_size / 2})`);\n",
              "\n",
              "  node_content.append(node =\u003e create_node_element(options, node));\n",
              "}\n",
              "\n",
              "/**\n",
              " * Creates the D3 content for a single node.\n",
              " * @param {!options} options Dictionary of configurations.\n",
              " * @param {!node} node Node to draw.\n",
              " * @return {!d3} D3 content.\n",
              " */\n",
              "function create_node_element(options, node) {\n",
              "  // Output accumulator.\n",
              "  let output = {\n",
              "    // Content to draw.\n",
              "    content: d3.create('svg:g'),\n",
              "    // Vertical offset to the next element to draw.\n",
              "    vertical_offset: 0\n",
              "  };\n",
              "\n",
              "  // Conditions.\n",
              "  if (node.data.condition != null) {\n",
              "    display_condition(options, node.data.condition, output);\n",
              "  }\n",
              "\n",
              "  // Values.\n",
              "  if (node.data.value != null) {\n",
              "    display_value(options, node.data.value, output);\n",
              "  }\n",
              "\n",
              "  // Explanations.\n",
              "  if (node.data.explanation != null) {\n",
              "    display_explanation(options, node.data.explanation, output);\n",
              "  }\n",
              "\n",
              "  return output.content.node();\n",
              "}\n",
              "\n",
              "\n",
              "/**\n",
              " * Adds a single line of text inside of a node.\n",
              " * @param {!options} options Dictionary of configurations.\n",
              " * @param {string} text Text to display.\n",
              " * @param {!output} output Output display accumulator.\n",
              " */\n",
              "function display_node_text(options, text, output) {\n",
              "  output.content.append('text')\n",
              "      .attr('x', options.node_padding)\n",
              "      .attr('y', output.vertical_offset)\n",
              "      .attr('alignment-baseline', 'hanging')\n",
              "      .text(text);\n",
              "  output.vertical_offset += 10;\n",
              "}\n",
              "\n",
              "/**\n",
              " * Adds a single line of text inside of a node with a tooltip.\n",
              " * @param {!options} options Dictionary of configurations.\n",
              " * @param {string} text Text to display.\n",
              " * @param {string} tooltip Text in the Tooltip.\n",
              " * @param {!output} output Output display accumulator.\n",
              " */\n",
              "function display_node_text_with_tooltip(options, text, tooltip, output) {\n",
              "  const item = output.content.append('text')\n",
              "                   .attr('x', options.node_padding)\n",
              "                   .attr('alignment-baseline', 'hanging')\n",
              "                   .text(text);\n",
              "\n",
              "  add_tooltip(options, item, () =\u003e tooltip);\n",
              "  output.vertical_offset += 10;\n",
              "}\n",
              "\n",
              "/**\n",
              " * Adds a tooltip to a dom element.\n",
              " * @param {!options} options Dictionary of configurations.\n",
              " * @param {!dom} target Dom element to equip with a tooltip.\n",
              " * @param {!func} get_content Generates the html content of the tooltip.\n",
              " */\n",
              "function add_tooltip(options, target, get_content) {\n",
              "  function show(d) {\n",
              "    options.tooltip.style('display', 'block');\n",
              "    options.tooltip.html(get_content());\n",
              "  }\n",
              "\n",
              "  function hide(d) {\n",
              "    options.tooltip.style('display', 'none');\n",
              "  }\n",
              "\n",
              "  function move(d) {\n",
              "    console.log('MOVE', d);\n",
              "    options.tooltip.style('display', 'block');\n",
              "    options.tooltip.style('left', (d.pageX + 5) + 'px');\n",
              "    options.tooltip.style('top', d.pageY + 'px');\n",
              "  }\n",
              "\n",
              "  target.on('mouseover', show);\n",
              "  target.on('mouseout', hide);\n",
              "  target.on('mousemove', move);\n",
              "}\n",
              "\n",
              "/**\n",
              " * Adds a condition inside of a node.\n",
              " * @param {!options} options Dictionary of configurations.\n",
              " * @param {!condition} condition Condition to display.\n",
              " * @param {!output} output Output display accumulator.\n",
              " */\n",
              "function display_condition(options, condition, output) {\n",
              "  threshold_format = d3.format('r');\n",
              "\n",
              "  if (condition.type === 'IS_MISSING') {\n",
              "    display_node_text(options, `${condition.attribute} is missing`, output);\n",
              "    return;\n",
              "  }\n",
              "\n",
              "  if (condition.type === 'IS_TRUE') {\n",
              "    display_node_text(options, `${condition.attribute} is true`, output);\n",
              "    return;\n",
              "  }\n",
              "\n",
              "  if (condition.type === 'NUMERICAL_IS_HIGHER_THAN') {\n",
              "    format = d3.format('r');\n",
              "    display_node_text(\n",
              "        options,\n",
              "        `${condition.attribute} \u003e= ${threshold_format(condition.threshold)}`,\n",
              "        output);\n",
              "    return;\n",
              "  }\n",
              "\n",
              "  if (condition.type === 'CATEGORICAL_IS_IN') {\n",
              "    display_node_text_with_tooltip(\n",
              "        options, `${condition.attribute} in [...]`,\n",
              "        `${condition.attribute} in [${condition.mask}]`, output);\n",
              "    return;\n",
              "  }\n",
              "\n",
              "  if (condition.type === 'CATEGORICAL_SET_CONTAINS') {\n",
              "    display_node_text_with_tooltip(\n",
              "        options, `${condition.attribute} intersect [...]`,\n",
              "        `${condition.attribute} intersect [${condition.mask}]`, output);\n",
              "    return;\n",
              "  }\n",
              "\n",
              "  if (condition.type === 'NUMERICAL_SPARSE_OBLIQUE') {\n",
              "    display_node_text_with_tooltip(\n",
              "        options, `Sparse oblique split...`,\n",
              "        `[${condition.attributes}]*[${condition.weights}]\u003e=${\n",
              "            threshold_format(condition.threshold)}`,\n",
              "        output);\n",
              "    return;\n",
              "  }\n",
              "\n",
              "  display_node_text(\n",
              "      options, `Non supported condition ${condition.type}`, output);\n",
              "}\n",
              "\n",
              "/**\n",
              " * Adds a value inside of a node.\n",
              " * @param {!options} options Dictionary of configurations.\n",
              " * @param {!value} value Value to display.\n",
              " * @param {!output} output Output display accumulator.\n",
              " */\n",
              "function display_value(options, value, output) {\n",
              "  if (value.type === 'PROBABILITY') {\n",
              "    const left_margin = 0;\n",
              "    const right_margin = 50;\n",
              "    const plot_width = options.node_x_size - options.node_padding * 2 -\n",
              "        left_margin - right_margin;\n",
              "\n",
              "    let cusum = Array.from(d3.cumsum(value.distribution));\n",
              "    cusum.unshift(0);\n",
              "    const distribution_plot = output.content.append('g').attr(\n",
              "        'transform', `translate(0,${output.vertical_offset + 0.5})`);\n",
              "\n",
              "    distribution_plot.selectAll('rect')\n",
              "        .data(value.distribution)\n",
              "        .join('rect')\n",
              "        .attr('height', 10)\n",
              "        .attr(\n",
              "            'x',\n",
              "            (d, i) =\u003e\n",
              "                (cusum[i] * plot_width + left_margin + options.node_padding))\n",
              "        .attr('width', (d, i) =\u003e d * plot_width)\n",
              "        .style('fill', (d, i) =\u003e d3.schemeSet1[i]);\n",
              "\n",
              "    const num_examples =\n",
              "        output.content.append('g')\n",
              "            .attr('transform', `translate(0,${output.vertical_offset})`)\n",
              "            .append('text')\n",
              "            .attr('x', options.node_x_size - options.node_padding)\n",
              "            .attr('alignment-baseline', 'hanging')\n",
              "            .attr('text-anchor', 'end')\n",
              "            .text(`(${value.num_examples})`);\n",
              "\n",
              "    const distribution_details = d3.create('ul');\n",
              "    distribution_details.selectAll('li')\n",
              "        .data(value.distribution)\n",
              "        .join('li')\n",
              "        .append('span')\n",
              "        .text(\n",
              "            (d, i) =\u003e\n",
              "                'class ' + i + ': ' + d3.format('.3%')(value.distribution[i]));\n",
              "\n",
              "    add_tooltip(options, distribution_plot, () =\u003e distribution_details.html());\n",
              "    add_tooltip(options, num_examples, () =\u003e 'Number of examples');\n",
              "\n",
              "    output.vertical_offset += 10;\n",
              "    return;\n",
              "  }\n",
              "\n",
              "  if (value.type === 'REGRESSION') {\n",
              "    display_node_text(\n",
              "        options,\n",
              "        'value: ' + d3.format('r')(value.value) + ` (${value.num_examples})`,\n",
              "        output);\n",
              "    return;\n",
              "  }\n",
              "\n",
              "  display_node_text(options, `Non supported value ${value.type}`, output);\n",
              "}\n",
              "\n",
              "/**\n",
              " * Adds an explanation inside of a node.\n",
              " * @param {!options} options Dictionary of configurations.\n",
              " * @param {!explanation} explanation Explanation to display.\n",
              " * @param {!output} output Output display accumulator.\n",
              " */\n",
              "function display_explanation(options, explanation, output) {\n",
              "  // Margin before the explanation.\n",
              "  output.vertical_offset += 10;\n",
              "\n",
              "  display_node_text(\n",
              "      options, `Non supported explanation ${explanation.type}`, output);\n",
              "}\n",
              "\n",
              "\n",
              "/**\n",
              " * Draw the edges of the tree.\n",
              " * @param {!options} options Dictionary of configurations.\n",
              " * @param {!graph} graph D3 search handle containing the graph.\n",
              " * @param {!tree_struct} tree_struct Structure of the tree (node placement,\n",
              " *     data, etc.).\n",
              " */\n",
              "function display_edges(options, graph, tree_struct) {\n",
              "  // Draw an edge between a parent and a child node with a bezier.\n",
              "  function draw_single_edge(d) {\n",
              "    return 'M' + (d.source.y + options.node_x_size) + ',' + d.source.x + ' C' +\n",
              "        (d.source.y + options.node_x_size + options.edge_rounding) + ',' +\n",
              "        d.source.x + ' ' + (d.target.y - options.edge_rounding) + ',' +\n",
              "        d.target.x + ' ' + d.target.y + ',' + d.target.x;\n",
              "  }\n",
              "\n",
              "  graph.append('g')\n",
              "      .attr('fill', 'none')\n",
              "      .attr('stroke-width', 1.2)\n",
              "      .selectAll('path')\n",
              "      .data(tree_struct.links())\n",
              "      .join('path')\n",
              "      .attr('d', draw_single_edge)\n",
              "      .attr(\n",
              "          'stroke', d =\u003e (d.target === d.source.children[0]) ? '#0F0' : '#F00');\n",
              "}\n",
              "\n",
              "display_tree({\"labels\": \"[\\\"red\\\", \\\"blue\\\", \\\"green\\\"]\"}, {\"condition\": {\"type\": \"NUMERICAL_IS_HIGHER_THAN\", \"attribute\": \"f1\", \"threshold\": 1.5}, \"children\": [{\"condition\": {\"type\": \"CATEGORICAL_IS_IN\", \"attribute\": \"f2\", \"mask\": [\"cat\", \"dog\"]}, \"children\": [{\"value\": {\"type\": \"PROBABILITY\", \"distribution\": [0.8, 0.1, 0.1], \"num_examples\": 10.0}}, {\"value\": {\"type\": \"PROBABILITY\", \"distribution\": [0.1, 0.8, 0.1], \"num_examples\": 20.0}}]}, {\"value\": {\"type\": \"PROBABILITY\", \"distribution\": [0.1, 0.1, 0.8], \"num_examples\": 30.0}}]}, \"#tree_plot_000ea4a2b8a94787bdcc6a1f86bce6b7\")\n",
              "\u003c/script\u003e\n"
            ],
            "text/plain": [
              "\u003cIPython.core.display.HTML at 0x7faebc629d30\u003e"
            ]
          },
          "execution_count": 23,
          "metadata": {
            "tags": []
          },
          "output_type": "execute_result"
        }
      ],
      "source": [
        "tfdf.model_plotter.plot_model_in_colab(manual_model)"
      ]
    }
  ],
  "metadata": {
    "colab": {
      "collapsed_sections": [],
      "last_runtime": {
        "build_target": "",
        "kind": "local"
      },
      "name": "Advanced colab | TensorFlow Decision Forests",
      "provenance": [
        {
          "file_id": "1QF3RtH3LSx7QjMgtTad3qagQ0oWmFj4Y",
          "timestamp": 1618319432072
        },
        {
          "file_id": "/piper/depot/google3/third_party/tensorflow_decision_forests/documentation/tutorials/intermediate_colab.ipynb",
          "timestamp": 1618302388775
        },
        {
          "file_id": "1L61CtsZzgRs09yoj-Bac3o6eUeFGe-qe",
          "timestamp": 1617976681796
        },
        {
          "file_id": "/piper/depot/google3/third_party/tensorflow_decision_forests/documentation/intermediate_colab.ipynb?workspaceId=gbm:sml_oss_colabs::citc",
          "timestamp": 1617882306082
        },
        {
          "file_id": "19bVQTYDbGlobMBky5JK8iK1CoAxdKErm",
          "timestamp": 1617202340185
        }
      ],
      "toc_visible": true
    },
    "kernelspec": {
      "display_name": "Python 3",
      "name": "python3"
    }
  },
  "nbformat": 4,
  "nbformat_minor": 0
}
